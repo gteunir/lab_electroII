{
 "cells": [
  {
   "cell_type": "code",
   "execution_count": null,
   "id": "826e61d5-45a4-46cc-8601-468f61f8c7d6",
   "metadata": {},
   "outputs": [],
   "source": [
    "import numpy as np\n",
    "import matplotlib.pyplot as plt\n",
    "%matplotlib inline"
   ]
  },
  {
   "cell_type": "code",
   "execution_count": null,
   "id": "8b0b6205-e282-4886-b743-50f8b72120d1",
   "metadata": {},
   "outputs": [],
   "source": [
    "def sampling_sphere(samples=1000, r=1):\n",
    "\n",
    "    points = []\n",
    "    phi = np.pi * (np.sqrt(5.) - 1.)  \n",
    "\n",
    "    for i in range(samples):\n",
    "        y = 1 - (i / float(samples - 1)) * 2  \n",
    "        radius = np.sqrt(1 - y * y)  \n",
    "\n",
    "        theta = phi * i \n",
    "\n",
    "        x = np.cos(theta) * radius\n",
    "        z = np.sin(theta) * radius\n",
    "\n",
    "        points.append((x, y, z))\n",
    "\n",
    "    return r*np.array(points)\n"
   ]
  },
  {
   "cell_type": "code",
   "execution_count": null,
   "id": "5a915398-5815-4a7c-be62-10f706ba3d45",
   "metadata": {},
   "outputs": [],
   "source": [
    "def potential_charge (field_pos, source_pos):\n",
    "    r = np.linalg.norm(field_pos-source_pos)\n",
    "    if r < 1e-7:\n",
    "        print(f\"Aviso: {field_pos} y {source_pos} están muy cerca uno de otro\")\n",
    "    return k*q/r"
   ]
  },
  {
   "cell_type": "code",
   "execution_count": null,
   "id": "318b7efb-ad47-4293-99d3-f9220409d0b7",
   "metadata": {},
   "outputs": [],
   "source": [
    "# Rellena los huecos necesarios con los valores adecuados\n",
    "\n",
    "k = __ # constante de la ley de Coulomb\n",
    "epsilon = __ # permitividad eléctrica\n",
    "sigma = __ # densidad de carga en la superficie de la esfera\n",
    "\n",
    "npoints_sphere = __ # número de puntos a simular en la superficie\n",
    "rsphere = __ # radio de la esfera\n",
    "points_sphere = __ # puntos generados sobre la esfera\n",
    "\n",
    "q = sigma*4*np.pi*rsphere**2 # 'carga' eléctrica"
   ]
  },
  {
   "cell_type": "code",
   "execution_count": null,
   "id": "a56bde2b-5555-4e49-bd6c-5bfbbfa7182e",
   "metadata": {},
   "outputs": [],
   "source": []
  },
  {
   "cell_type": "code",
   "execution_count": null,
   "id": "d801e315-95c9-4aa7-a961-4289af58efe6",
   "metadata": {},
   "outputs": [],
   "source": []
  },
  {
   "cell_type": "code",
   "execution_count": null,
   "id": "960815f5-53bc-40cb-8539-03f210d8d2a5",
   "metadata": {},
   "outputs": [],
   "source": []
  },
  {
   "cell_type": "code",
   "execution_count": null,
   "id": "20ab3cd0-5cc7-4696-8389-af40fc9ff0b9",
   "metadata": {},
   "outputs": [],
   "source": [
    "\n",
    "ax = plt.figure(figsize=(14,14)).add_subplot(projection='3d')\n",
    "ax.scatter(points_sphere[:,0],points_sphere[:,1],points_sphere[:,2])\n",
    "# añade títulos a los ejes de coordenadas"
   ]
  },
  {
   "cell_type": "code",
   "execution_count": null,
   "id": "4a9939fc-1535-4ac3-9503-3c3666a2fc82",
   "metadata": {},
   "outputs": [],
   "source": []
  },
  {
   "cell_type": "code",
   "execution_count": null,
   "id": "001a1da4-4cec-43cd-97f8-78ecc9e6b2a0",
   "metadata": {},
   "outputs": [],
   "source": [
    "# puntos del espacio donde se calcula el potencial\n",
    "xf = np.linspace(-3,3,20)\n",
    "yf = np.copy(xf)\n",
    "zf = np.copy(xf)\n",
    "field_points = np.array([ np.array([xx,yy,zz]) for xx in xf for yy in yf for zz in zf ])\n"
   ]
  },
  {
   "cell_type": "code",
   "execution_count": null,
   "id": "84798a6f-f833-4cae-bbe4-a8e5a54c3df6",
   "metadata": {},
   "outputs": [],
   "source": [
    "# potencial en el punto 'field_pos' generado por la esfera\n",
    "def potential_sphere (field_pos):\n",
    "    #___"
   ]
  },
  {
   "cell_type": "code",
   "execution_count": null,
   "id": "f278c092-b89e-4b7f-9451-b940f628250f",
   "metadata": {},
   "outputs": [],
   "source": []
  },
  {
   "cell_type": "code",
   "execution_count": null,
   "id": "8e098432-06e0-4aa6-8b1c-797985cef46e",
   "metadata": {},
   "outputs": [],
   "source": [
    "# Evalua el potencial en cada punto del espacio generado. Por conveniencia guárdalo en un np.array\n",
    "V = __"
   ]
  },
  {
   "cell_type": "code",
   "execution_count": null,
   "id": "9eb4f87b-4ab3-4d4f-aac3-384952ded9e2",
   "metadata": {},
   "outputs": [],
   "source": [
    "#plt.scatter(xf,yf,c=V)"
   ]
  },
  {
   "cell_type": "code",
   "execution_count": null,
   "id": "b84bc8cd-6424-4c56-9b91-61c367f5e5a6",
   "metadata": {},
   "outputs": [],
   "source": [
    "# Condiciones de contorno\n",
    "p = # punto sobre la superficie de la esfera\n",
    "h = np.array([1e-8,0.,0.])\n",
    "dV = (potential_sphere(p+h)-potential_sphere(p-h))/np.linalg.norm(h)\n"
   ]
  }
 ],
 "metadata": {
  "kernelspec": {
   "display_name": "Python 3",
   "language": "python",
   "name": "python3"
  },
  "language_info": {
   "codemirror_mode": {
    "name": "ipython",
    "version": 3
   },
   "file_extension": ".py",
   "mimetype": "text/x-python",
   "name": "python",
   "nbconvert_exporter": "python",
   "pygments_lexer": "ipython3",
   "version": "3.9.15"
  }
 },
 "nbformat": 4,
 "nbformat_minor": 5
}
